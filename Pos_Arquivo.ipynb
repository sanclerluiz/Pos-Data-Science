{
 "cells": [
  {
   "cell_type": "markdown",
   "metadata": {},
   "source": [
    "MACHINE LEARNING"
   ]
  },
  {
   "cell_type": "code",
   "execution_count": null,
   "metadata": {},
   "outputs": [],
   "source": [
    "#Importando os dados\n",
    "\n",
    "from sklearn.datasets import load_iris"
   ]
  },
  {
   "cell_type": "code",
   "execution_count": null,
   "metadata": {},
   "outputs": [],
   "source": [
    "# Vamos separar os dados de treino e teste\n",
    "# Então vamos importar a função que faz isso\n",
    "\n",
    "from sklearn.model_selection import train_test_split"
   ]
  },
  {
   "cell_type": "code",
   "execution_count": null,
   "metadata": {},
   "outputs": [],
   "source": [
    "# Importando o KNN\n",
    "\n",
    "from sklearn.neighbors import KNeighborsClassifier"
   ]
  },
  {
   "cell_type": "code",
   "execution_count": null,
   "metadata": {},
   "outputs": [],
   "source": [
    "dados = load_iris(as_frame=True)['data']\n",
    "dados['type'] = load_iris(as_frame=True)['target']\n",
    "\n",
    "dados.head()"
   ]
  },
  {
   "cell_type": "code",
   "execution_count": null,
   "metadata": {},
   "outputs": [],
   "source": [
    "dados.groupby('type').describe()['sepal length (cm)']"
   ]
  },
  {
   "cell_type": "code",
   "execution_count": null,
   "metadata": {},
   "outputs": [],
   "source": [
    "dados.groupby('type').describe()['sepal width (cm)']"
   ]
  },
  {
   "cell_type": "code",
   "execution_count": null,
   "metadata": {},
   "outputs": [],
   "source": [
    "# caracteristica da pétala (Dados de Treino)\n",
    "X = load_iris(as_frame=True)['data']\n",
    "\n",
    "# tipo de íris (Reposta)\n",
    "Y = load_iris(as_frame=True)['target']"
   ]
  },
  {
   "cell_type": "markdown",
   "metadata": {},
   "source": [
    "Vamos usar X de treino e Y de treino para treinar o nosso modelo de X de teste e Y de teste, para testar se o nosso modelo ta acertando bem"
   ]
  },
  {
   "cell_type": "code",
   "execution_count": null,
   "metadata": {},
   "outputs": [],
   "source": [
    "X_train,X_test,Y_train,Y_test = train_test_split(X,Y,test_size=0.25,random_state=0)"
   ]
  },
  {
   "cell_type": "code",
   "execution_count": null,
   "metadata": {},
   "outputs": [],
   "source": [
    "neigh = KNeighborsClassifier(n_neighbors=3)"
   ]
  },
  {
   "cell_type": "code",
   "execution_count": null,
   "metadata": {},
   "outputs": [],
   "source": [
    "neigh.fit(X_train,Y_train)"
   ]
  },
  {
   "cell_type": "code",
   "execution_count": null,
   "metadata": {},
   "outputs": [],
   "source": [
    "# Usando nosso algorito ja treinado para fazer previsões usando os dados de teste\n",
    "\n",
    "Y_pred = neigh.predict(X_test)\n",
    "Y_pred"
   ]
  },
  {
   "cell_type": "markdown",
   "metadata": {},
   "source": [
    "Verificação da Quantidade de Erros"
   ]
  },
  {
   "cell_type": "code",
   "execution_count": null,
   "metadata": {},
   "outputs": [],
   "source": [
    "print('Total de previsões: {} \\nObsersavação de teste: {}'.format(X_test.shape[0],(Y_test != Y_pred).sum()))"
   ]
  },
  {
   "cell_type": "markdown",
   "metadata": {},
   "source": [
    "PADRONIZANDO DADOS COM A MESMA MEDIA E MESMA VARIANCIA"
   ]
  },
  {
   "cell_type": "code",
   "execution_count": null,
   "metadata": {},
   "outputs": [],
   "source": [
    "from sklearn.preprocessing import StandardScaler\n",
    "\n",
    "scaler = StandardScaler()\n",
    "scaler.fit(X_train)\n",
    "\n",
    "X_train = scaler.transform(X_train)\n",
    "X_test = scaler.transform(X_test)"
   ]
  },
  {
   "cell_type": "code",
   "execution_count": null,
   "metadata": {},
   "outputs": [],
   "source": [
    "import pandas as pd"
   ]
  },
  {
   "cell_type": "code",
   "execution_count": null,
   "metadata": {},
   "outputs": [],
   "source": [
    "pd.DataFrame(X_train).describe()"
   ]
  },
  {
   "cell_type": "code",
   "execution_count": null,
   "metadata": {},
   "outputs": [],
   "source": [
    "# Algoritmo onde K = 3\n",
    "\n",
    "neigh = KNeighborsClassifier(n_neighbors=3)"
   ]
  },
  {
   "cell_type": "code",
   "execution_count": null,
   "metadata": {},
   "outputs": [],
   "source": [
    "#Treinamento\n",
    "\n",
    "neigh.fit(X_train,Y_train)"
   ]
  },
  {
   "cell_type": "code",
   "execution_count": null,
   "metadata": {},
   "outputs": [],
   "source": [
    "# Usando os dados de teste para fazer previsões com o dados ja treinados\n",
    "\n",
    "Y_pred = neigh.predict(X_test)\n",
    "Y_pred"
   ]
  },
  {
   "cell_type": "code",
   "execution_count": null,
   "metadata": {},
   "outputs": [],
   "source": [
    "print('Total de previsões: {} \\nObsersavação de teste: {}'.format(X_test.shape[0],(Y_test != Y_pred).sum()))"
   ]
  },
  {
   "cell_type": "markdown",
   "metadata": {},
   "source": [
    "DEFINIR VALOR IDEAL PARA K"
   ]
  },
  {
   "cell_type": "code",
   "execution_count": null,
   "metadata": {},
   "outputs": [],
   "source": [
    "acerto = []\n",
    "tamanho_teste = X_test.shape[0]\n",
    "\n",
    "for i in range (1,15):\n",
    "    print(i)\n",
    "    knn = KNeighborsClassifier(n_neighbors=i)\n",
    "    knn.fit(X_train,Y_train)\n",
    "    pred_i = knn.predict(X_test)\n",
    "    \n",
    "    acerto_i = (Y_test == pred_i).sum()/tamanho_teste\n",
    "    acerto.append(100*acerto_i)"
   ]
  },
  {
   "cell_type": "code",
   "execution_count": null,
   "metadata": {},
   "outputs": [],
   "source": [
    "dados_acerto = pd.DataFrame()\n",
    "dados_acerto['K'] = range (1,15)\n",
    "dados_acerto['percentual_acerto'] = acerto"
   ]
  },
  {
   "cell_type": "code",
   "execution_count": null,
   "metadata": {},
   "outputs": [],
   "source": [
    "dados_acerto.head()"
   ]
  },
  {
   "cell_type": "code",
   "execution_count": null,
   "metadata": {},
   "outputs": [],
   "source": [
    "import plotly.express as px"
   ]
  },
  {
   "cell_type": "code",
   "execution_count": null,
   "metadata": {},
   "outputs": [],
   "source": [
    "figura = px.line(dados_acerto,x='K', y='percentual_acerto',\n",
    "                 title='Percentual de Acertos por K')\n",
    "figura.show()"
   ]
  },
  {
   "cell_type": "markdown",
   "metadata": {},
   "source": [
    "CLUSTERIZAÇÃO"
   ]
  },
  {
   "cell_type": "code",
   "execution_count": null,
   "metadata": {},
   "outputs": [],
   "source": [
    "from sklearn.datasets import make_blobs\n",
    "from matplotlib import pyplot as plt\n",
    "import seaborn as sns\n",
    "\n",
    "sns.set_theme(style='darkgrid',palette = 'pastel')"
   ]
  },
  {
   "cell_type": "code",
   "execution_count": null,
   "metadata": {},
   "outputs": [],
   "source": [
    "centers = [(-5,-5), (-3,-3), (1,1), (5,5)]\n",
    "cluster_std = [0.9,.6,1,.8]\n",
    "\n",
    "\n",
    "x,y = make_blobs(n_samples=200,cluster_std=cluster_std,centers=centers,n_features=2,random_state=1)\n",
    "\n",
    "plt.scatter(x[:,0], x[:,1], color = 'blue', edgecolors = 'black', s=15)"
   ]
  },
  {
   "cell_type": "markdown",
   "metadata": {},
   "source": [
    "Sub divisão dos grupos"
   ]
  },
  {
   "cell_type": "code",
   "execution_count": null,
   "metadata": {},
   "outputs": [],
   "source": [
    "plt.scatter(x[y == 0, 0], x[y == 0, 1], color='blue', edgecolors= 'black', s=15)\n",
    "plt.scatter(x[y == 1, 0], x[y == 1, 1], color='red', edgecolors= 'black', s=15)\n",
    "plt.scatter(x[y == 2, 0], x[y == 2, 1], color='green', edgecolors= 'black', s=15)\n",
    "plt.scatter(x[y == 3, 0], x[y == 3, 1], color='orange', edgecolors= 'black', s=15)"
   ]
  },
  {
   "cell_type": "markdown",
   "metadata": {},
   "source": [
    "Parâmetros de Ajuste Usando Retropropagação"
   ]
  },
  {
   "cell_type": "code",
   "execution_count": null,
   "metadata": {},
   "outputs": [],
   "source": [
    "import tensorflow as tf\n",
    "import matplotlib.pyplot as plt\n",
    "import numpy as np\n",
    "\n",
    "# Gerando dados de exemplo\n",
    "np.random.seed(0)\n",
    "X = 2 * np.random.rand(100, 1)\n",
    "y = 4 + 3 * X + np.random.randn(100, 1)\n",
    "\n",
    "# Definindo o modelo\n",
    "model = tf.keras.Sequential([\n",
    "    tf.keras.layers.Dense(units=1, input_dim=1, activation='linear')\n",
    "])\n",
    "\n",
    "# Compilando o modelo\n",
    "model.compile(optimizer='sgd', loss='mean_squared_error')\n",
    "\n",
    "# Treinando o modelo usando retropropagação\n",
    "history = model.fit(X, y, epochs=100, verbose=0)\n",
    "\n",
    "# Visualizando os resultados\n",
    "plt.plot(history.history['loss'])\n",
    "plt.title('Ajuste de Parâmetros com Retropropagação')\n",
    "plt.xlabel('Época')\n",
    "plt.ylabel('Erro Médio Quadrático')\n",
    "plt.show()\n",
    "\n",
    "# Gerando previsões\n",
    "X_new = np.array([[0], [2]])\n",
    "y_pred = model.predict(X_new)\n",
    "\n",
    "# Plotando os dados e as previsões\n",
    "plt.scatter(X, y, label='Dados de Treinamento')\n",
    "plt.plot(X_new, y_pred, 'r-', label='Previsões')\n",
    "plt.xlabel('Feature')\n",
    "plt.ylabel('Label')\n",
    "plt.legend()\n",
    "plt.title('Ajuste de Parâmetros com Retropropagação - Resultados')\n",
    "plt.savefig('ajuste_parametros_retropropagacao.png')\n",
    "plt.show()\n"
   ]
  },
  {
   "cell_type": "markdown",
   "metadata": {},
   "source": [
    "Cross-Entropy"
   ]
  },
  {
   "cell_type": "code",
   "execution_count": 1,
   "metadata": {},
   "outputs": [
    {
     "data": {
      "image/png": "[encoded data removed]",
      "text/plain": [
       "<Figure size 432x288 with 1 Axes>"
      ]
     },
     "metadata": {
      "needs_background": "light"
     },
     "output_type": "display_data"
    },
    {
     "name": "stdout",
     "output_type": "stream",
     "text": [
      "Entrada: 0.2, Previsão: 0.6139222383499146, Classe Prevista: 1.0\n",
      "Entrada: 0.5, Previsão: 0.663131833076477, Classe Prevista: 1.0\n",
      "Entrada: 0.8, Previsão: 0.7090417742729187, Classe Prevista: 1.0\n"
     ]
    }
   ],
   "source": [
    "import tensorflow as tf\n",
    "import numpy as np\n",
    "import matplotlib.pyplot as plt\n",
    "\n",
    "# Gerando dados fictícios\n",
    "np.random.seed(42)\n",
    "X = np.random.rand(100, 1)\n",
    "y = (3 * X + 0.5 + 0.2 * np.random.randn(100, 1)) > 1\n",
    "\n",
    "# Definindo o modelo\n",
    "model = tf.keras.Sequential([\n",
    "    tf.keras.layers.Dense(units=1, input_dim=1, activation='sigmoid')\n",
    "])\n",
    "\n",
    "# Compilando o modelo com Cross-Entropy como função de perda\n",
    "model.compile(optimizer='adam', loss='binary_crossentropy', metrics=['accuracy'])\n",
    "\n",
    "# Treinando o modelo\n",
    "history = model.fit(X, y, epochs=100, verbose=0)\n",
    "\n",
    "# Visualizando os resultados\n",
    "plt.plot(history.history['loss'])\n",
    "plt.title('Treinamento com Cross-Entropy')\n",
    "plt.xlabel('Época')\n",
    "plt.ylabel('Cross-Entropy Loss')\n",
    "plt.show()\n",
    "\n",
    "# Gerando previsões\n",
    "X_new = np.array([[0.2], [0.5], [0.8]])\n",
    "y_pred = model.predict(X_new)\n",
    "\n",
    "# Arredondando as previsões para obter rótulos de classe\n",
    "predicted_labels = np.round(y_pred)\n",
    "\n",
    "# Exibindo resultados\n",
    "for i in range(len(X_new)):\n",
    "    print(f'Entrada: {X_new[i][0]}, Previsão: {y_pred[i][0]}, Classe Prevista: {predicted_labels[i][0]}')\n"
   ]
  }
 ],
 "metadata": {
  "kernelspec": {
   "display_name": "base",
   "language": "python",
   "name": "python3"
  },
  "language_info": {
   "codemirror_mode": {
    "name": "ipython",
    "version": 3
   },
   "file_extension": ".py",
   "mimetype": "text/x-python",
   "name": "python",
   "nbconvert_exporter": "python",
   "pygments_lexer": "ipython3",
   "version": "3.9.12"
  },
  "orig_nbformat": 4
 },
 "nbformat": 4,
 "nbformat_minor": 2
}
